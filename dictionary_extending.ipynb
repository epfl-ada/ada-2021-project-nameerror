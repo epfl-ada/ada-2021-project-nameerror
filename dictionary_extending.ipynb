{
 "cells": [
  {
   "cell_type": "markdown",
   "id": "72ad0bff",
   "metadata": {},
   "source": [
    "# Extending dictionary of terms\n",
    "\n",
    "The following code is used to go over the Internet looking for related terms of a given set of terms."
   ]
  },
  {
   "cell_type": "code",
   "execution_count": 1,
   "id": "962565a3",
   "metadata": {},
   "outputs": [
    {
     "name": "stderr",
     "output_type": "stream",
     "text": [
      "[nltk_data] Downloading package stopwords to /home/milos/nltk_data...\n",
      "[nltk_data]   Package stopwords is already up-to-date!\n",
      "[nltk_data] Downloading package punkt to /home/milos/nltk_data...\n",
      "[nltk_data]   Package punkt is already up-to-date!\n"
     ]
    },
    {
     "data": {
      "text/plain": [
       "True"
      ]
     },
     "execution_count": 1,
     "metadata": {},
     "output_type": "execute_result"
    }
   ],
   "source": [
    "import nltk\n",
    "\n",
    "nltk.download('stopwords')\n",
    "nltk.download('punkt')"
   ]
  },
  {
   "cell_type": "code",
   "execution_count": 2,
   "id": "d9bde0b8",
   "metadata": {},
   "outputs": [],
   "source": [
    "from functools import reduce\n",
    "from itertools import chain\n",
    "import time\n",
    "\n",
    "from collections import Counter\n",
    "from multiprocessing import Pool\n",
    "\n",
    "import requests\n",
    "from bs4 import BeautifulSoup\n",
    "from googlesearch import search\n",
    "\n",
    "from nltk.corpus import stopwords\n",
    "from nltk.tokenize import word_tokenize\n",
    "from nltk.stem import PorterStemmer\n",
    "\n",
    "\n",
    "def flatmap(func, collection):\n",
    "    return reduce(\n",
    "        lambda acc, new_el: chain(acc, new_el),\n",
    "        map(func, collection)\n",
    "    )\n",
    "\n",
    "# Search google to get top n results for the given term\n",
    "def get_search_results(term, n=20):\n",
    "    return search(term, num=n, stop=n, tld='com', lang='en', pause=2)\n",
    "\n",
    "# Search google to get top results for each of the given terms\n",
    "def get_many_search_results(*terms, top_result_count=20):\n",
    "    return list(flatmap(lambda term: get_search_results(term, n=top_result_count), terms))\n",
    "\n",
    "# Requests resource on the given url and return it as BeautifulSoup using html parser\n",
    "def get_webpage(url):\n",
    "    doc = requests.get(url, headers={'User-agent': 'Dictionary extender spider'})\n",
    "    parser = 'html.parser'\n",
    "    return BeautifulSoup(doc.text, parser)\n",
    "\n",
    "# Requests resource on the given url and counts the number of occurences of each word\n",
    "def get_wordcounts(url):\n",
    "#     print('Counting words on', url)\n",
    "    ps = PorterStemmer()\n",
    "    stop_words = set(stopwords.words('english'))\n",
    "    webpage_text = get_webpage(url).text\n",
    "    tokens = [token.lower() for token in word_tokenize(webpage_text)]\n",
    "    # Remove stop words and punctuation\n",
    "    tokens = filter(lambda word: word not in stop_words and word.isalnum(), tokens)\n",
    "    # Do stemming\n",
    "    stemmed_tokens = map(ps.stem, tokens)\n",
    "    return Counter(stemmed_tokens)\n",
    "    \n",
    "def extend_dictionary(*terms, top_result_count=20):\n",
    "    search_results = get_many_search_results(*terms, top_result_count=top_result_count)\n",
    "#     print(search_results)\n",
    "    with Pool() as pool:\n",
    "        return reduce(\n",
    "            lambda acc, new_counter: acc + new_counter,\n",
    "            pool.imap_unordered(get_wordcounts, search_results),\n",
    "            Counter()\n",
    "        )"
   ]
  },
  {
   "cell_type": "code",
   "execution_count": null,
   "id": "184e06bb",
   "metadata": {},
   "outputs": [],
   "source": [
    "extend_dictionary('vegan', top_result_count=10).most_common()"
   ]
  }
 ],
 "metadata": {
  "kernelspec": {
   "display_name": "Python 3",
   "language": "python",
   "name": "python3"
  },
  "language_info": {
   "codemirror_mode": {
    "name": "ipython",
    "version": 3
   },
   "file_extension": ".py",
   "mimetype": "text/x-python",
   "name": "python",
   "nbconvert_exporter": "python",
   "pygments_lexer": "ipython3",
   "version": "3.8.8"
  }
 },
 "nbformat": 4,
 "nbformat_minor": 5
}
