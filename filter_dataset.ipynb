{
  "nbformat": 4,
  "nbformat_minor": 0,
  "metadata": {
    "colab": {
      "name": "filter_dataset.ipynb",
      "provenance": [],
      "collapsed_sections": []
    },
    "kernelspec": {
      "name": "python3",
      "display_name": "Python 3"
    },
    "language_info": {
      "name": "python"
    }
  },
  "cells": [
    {
      "cell_type": "code",
      "metadata": {
        "id": "OMFyLGeEEGou"
      },
      "source": [
        "!mkdir data"
      ],
      "execution_count": null,
      "outputs": []
    },
    {
      "cell_type": "code",
      "metadata": {
        "colab": {
          "base_uri": "https://localhost:8080/"
        },
        "id": "lUO2Iwv6E0kR",
        "outputId": "4905776f-1031-4c9a-f7bb-26714ee50cb1"
      },
      "source": [
        "!wget https://zenodo.org/record/4277311/files/quotes-2020.json.bz2?download=1 -O data/quotebank2020.json.bz2"
      ],
      "execution_count": null,
      "outputs": [
        {
          "output_type": "stream",
          "name": "stdout",
          "text": [
            "--2021-11-09 10:56:13--  https://zenodo.org/record/4277311/files/quotes-2020.json.bz2?download=1\n",
            "Resolving zenodo.org (zenodo.org)... 137.138.76.77\n",
            "Connecting to zenodo.org (zenodo.org)|137.138.76.77|:443... connected.\n",
            "HTTP request sent, awaiting response... 200 OK\n",
            "Length: 830742956 (792M) [application/octet-stream]\n",
            "Saving to: ‘data/quotebank2020.json.bz2’\n",
            "\n",
            "data/quotebank2020. 100%[===================>] 792.26M  21.1MB/s    in 56s     \n",
            "\n",
            "2021-11-09 10:57:15 (14.1 MB/s) - ‘data/quotebank2020.json.bz2’ saved [830742956/830742956]\n",
            "\n"
          ]
        }
      ]
    },
    {
      "cell_type": "code",
      "metadata": {
        "colab": {
          "base_uri": "https://localhost:8080/"
        },
        "id": "iIRL75Z4ZXFy",
        "outputId": "e639578c-c535-462f-964b-b30f93bcba34"
      },
      "source": [
        "!pip install pandas==1.0.5\n",
        "!pip show pandas"
      ],
      "execution_count": 12,
      "outputs": [
        {
          "output_type": "stream",
          "name": "stdout",
          "text": [
            "Requirement already satisfied: pandas==1.0.5 in /usr/local/lib/python3.7/dist-packages (1.0.5)\n",
            "Requirement already satisfied: python-dateutil>=2.6.1 in /usr/local/lib/python3.7/dist-packages (from pandas==1.0.5) (2.8.2)\n",
            "Requirement already satisfied: numpy>=1.13.3 in /usr/local/lib/python3.7/dist-packages (from pandas==1.0.5) (1.19.5)\n",
            "Requirement already satisfied: pytz>=2017.2 in /usr/local/lib/python3.7/dist-packages (from pandas==1.0.5) (2018.9)\n",
            "Requirement already satisfied: six>=1.5 in /usr/local/lib/python3.7/dist-packages (from python-dateutil>=2.6.1->pandas==1.0.5) (1.15.0)\n",
            "Name: pandas\n",
            "Version: 1.0.5\n",
            "Summary: Powerful data structures for data analysis, time series, and statistics\n",
            "Home-page: https://pandas.pydata.org\n",
            "Author: None\n",
            "Author-email: None\n",
            "License: BSD\n",
            "Location: /usr/local/lib/python3.7/dist-packages\n",
            "Requires: numpy, pytz, python-dateutil\n",
            "Required-by: xarray, vega-datasets, statsmodels, sklearn-pandas, seaborn, pymc3, plotnine, pandas-profiling, pandas-gbq, pandas-datareader, mlxtend, mizani, holoviews, gspread-dataframe, google-colab, fix-yahoo-finance, fbprophet, fastai, cufflinks, cmdstanpy, arviz, altair\n"
          ]
        }
      ]
    },
    {
      "cell_type": "code",
      "metadata": {
        "id": "ibX3s-QvFH8U",
        "colab": {
          "base_uri": "https://localhost:8080/"
        },
        "outputId": "dc4d3bba-f6c1-4096-b29d-22c0e94a80ce"
      },
      "source": [
        "!pip show pandas"
      ],
      "execution_count": 3,
      "outputs": [
        {
          "output_type": "stream",
          "name": "stdout",
          "text": [
            "Name: pandas\n",
            "Version: 1.0.5\n",
            "Summary: Powerful data structures for data analysis, time series, and statistics\n",
            "Home-page: https://pandas.pydata.org\n",
            "Author: None\n",
            "Author-email: None\n",
            "License: BSD\n",
            "Location: /usr/local/lib/python3.7/dist-packages\n",
            "Requires: pytz, numpy, python-dateutil\n",
            "Required-by: xarray, vega-datasets, statsmodels, sklearn-pandas, seaborn, pymc3, plotnine, pandas-profiling, pandas-gbq, pandas-datareader, mlxtend, mizani, holoviews, gspread-dataframe, google-colab, fix-yahoo-finance, fbprophet, fastai, cufflinks, cmdstanpy, arviz, altair\n"
          ]
        }
      ]
    },
    {
      "cell_type": "code",
      "metadata": {
        "colab": {
          "base_uri": "https://localhost:8080/"
        },
        "id": "rYsamBTh17zL",
        "outputId": "48033c22-2fb3-4f3f-a48c-2afa76ab15fa"
      },
      "source": [
        "import nltk\n",
        "\n",
        "nltk.download('stopwords')\n",
        "nltk.download('punkt')\n",
        "\n",
        "from nltk.tokenize import word_tokenize\n",
        "from nltk.stem import PorterStemmer\n",
        "\n",
        "def prepare_tokens(tokens, stemmer):\n",
        "  return map(\n",
        "      # to avoid any multithreading issues, stemmer is always passed from outside\n",
        "      stemmer.stem, \n",
        "      map(lambda word: word.lower(), tokens)\n",
        "  )\n",
        "\n",
        "def is_topic_related(text, term_set_to_look_for, stemmer):\n",
        "  tokens = prepare_tokens(word_tokenize(text), stemmer)\n",
        "  return bool(set(tokens) & term_set_to_look_for)\n",
        "\n",
        "class ChunkProcessingFilter:\n",
        "  def __init__(self, *terms_to_look_for):\n",
        "    self.set_to_look_for = set(\n",
        "        prepare_tokens(terms_to_look_for, PorterStemmer()))\n",
        "\n",
        "  def __call__(self, chunk):\n",
        "    stemmer = PorterStemmer()\n",
        "    mask = chunk.apply(\n",
        "        lambda row: is_topic_related(\n",
        "            row.quotation, self.set_to_look_for, stemmer),\n",
        "        axis=1)\n",
        "    return chunk[mask]\n"
      ],
      "execution_count": 20,
      "outputs": [
        {
          "output_type": "stream",
          "name": "stdout",
          "text": [
            "[nltk_data] Downloading package stopwords to /root/nltk_data...\n",
            "[nltk_data]   Package stopwords is already up-to-date!\n",
            "[nltk_data] Downloading package punkt to /root/nltk_data...\n",
            "[nltk_data]   Package punkt is already up-to-date!\n"
          ]
        }
      ]
    },
    {
      "cell_type": "code",
      "metadata": {
        "id": "Xj5ookJGGT7J"
      },
      "source": [
        "import pandas as pd\n",
        "import itertools\n",
        "from functools import reduce\n",
        "from multiprocessing import Pool\n",
        "\n",
        "df_reader = pd.read_json('data/quotebank2020.json.bz2', lines=True, compression='bz2', chunksize=200000)\n",
        "try:\n",
        "  processing_filter = ChunkProcessingFilter('vegan', 'vegetarian', 'veget', 'plant-based', 'meat', 'veget', 'cruelti', 'anim', 'diet', 'ethic', 'plant', 'environment', 'fruit', 'vegetable', 'fish', 'milk', 'egg', 'leather')\n",
        "  with Pool(2) as pool:\n",
        "    filtered_entries = reduce(\n",
        "        lambda acc, new_el: pd.concat([acc, new_el]),\n",
        "        pool.imap_unordered(processing_filter, df_reader)\n",
        "    )\n",
        "finally:\n",
        "  df_reader.close()\n",
        "\n",
        "filtered_entries.to_json('data/filtered2020.json.bz2', compression='bz2', orient='records', lines=True)"
      ],
      "execution_count": null,
      "outputs": []
    },
    {
      "cell_type": "code",
      "metadata": {
        "colab": {
          "base_uri": "https://localhost:8080/",
          "height": 414
        },
        "id": "T6bVyovU8WE1",
        "outputId": "5b1ef610-d922-41ef-fb51-e91e8c1a81d0"
      },
      "source": [
        "filtered_entries"
      ],
      "execution_count": 17,
      "outputs": [
        {
          "output_type": "execute_result",
          "data": {
            "text/html": [
              "<div>\n",
              "<style scoped>\n",
              "    .dataframe tbody tr th:only-of-type {\n",
              "        vertical-align: middle;\n",
              "    }\n",
              "\n",
              "    .dataframe tbody tr th {\n",
              "        vertical-align: top;\n",
              "    }\n",
              "\n",
              "    .dataframe thead th {\n",
              "        text-align: right;\n",
              "    }\n",
              "</style>\n",
              "<table border=\"1\" class=\"dataframe\">\n",
              "  <thead>\n",
              "    <tr style=\"text-align: right;\">\n",
              "      <th></th>\n",
              "      <th>quoteID</th>\n",
              "      <th>quotation</th>\n",
              "      <th>speaker</th>\n",
              "      <th>qids</th>\n",
              "      <th>date</th>\n",
              "      <th>numOccurrences</th>\n",
              "      <th>probas</th>\n",
              "      <th>urls</th>\n",
              "      <th>phase</th>\n",
              "    </tr>\n",
              "  </thead>\n",
              "  <tbody>\n",
              "    <tr>\n",
              "      <th>1967</th>\n",
              "      <td>2020-02-13-100687</td>\n",
              "      <td>This diet focuses on lifelong changes to healt...</td>\n",
              "      <td>None</td>\n",
              "      <td>[]</td>\n",
              "      <td>2020-02-13 18:22:19</td>\n",
              "      <td>1</td>\n",
              "      <td>[[None, 0.8001], [Dr. Sebi, 0.1999]]</td>\n",
              "      <td>[https://parade.com/995529/christinperry/dr-se...</td>\n",
              "      <td>E</td>\n",
              "    </tr>\n",
              "    <tr>\n",
              "      <th>2692</th>\n",
              "      <td>2020-02-07-007719</td>\n",
              "      <td>As an empowered female leader myself, I am thr...</td>\n",
              "      <td>None</td>\n",
              "      <td>[]</td>\n",
              "      <td>2020-02-07 13:09:21</td>\n",
              "      <td>1</td>\n",
              "      <td>[[None, 0.9507], [Maye Musk, 0.0493]]</td>\n",
              "      <td>[https://www.perishablenews.com/produce/celebr...</td>\n",
              "      <td>E</td>\n",
              "    </tr>\n",
              "    <tr>\n",
              "      <th>4263</th>\n",
              "      <td>2020-02-13-087416</td>\n",
              "      <td>the funniest thing they left behind was a big ...</td>\n",
              "      <td>None</td>\n",
              "      <td>[]</td>\n",
              "      <td>2020-02-13 17:00:30</td>\n",
              "      <td>1</td>\n",
              "      <td>[[None, 0.8424], [Chevy Chase, 0.1576]]</td>\n",
              "      <td>[https://www.washingtonian.com/2020/02/13/supe...</td>\n",
              "      <td>E</td>\n",
              "    </tr>\n",
              "    <tr>\n",
              "      <th>4813</th>\n",
              "      <td>2020-01-21-098307</td>\n",
              "      <td>We stack the freshly plucked fruits into three...</td>\n",
              "      <td>Sahi Ram</td>\n",
              "      <td>[Q19605026]</td>\n",
              "      <td>2020-01-21 12:49:00</td>\n",
              "      <td>1</td>\n",
              "      <td>[[Sahi Ram, 0.9035], [None, 0.0965]]</td>\n",
              "      <td>[http://freshplaza.com/article/9181949/the-tin...</td>\n",
              "      <td>E</td>\n",
              "    </tr>\n",
              "    <tr>\n",
              "      <th>5263</th>\n",
              "      <td>2020-02-12-011869</td>\n",
              "      <td>Burger Burger will use local produce as much a...</td>\n",
              "      <td>None</td>\n",
              "      <td>[]</td>\n",
              "      <td>2020-02-12 18:56:09</td>\n",
              "      <td>1</td>\n",
              "      <td>[[None, 0.9078], [El Chapo, 0.0922]]</td>\n",
              "      <td>[https://www.belfastlive.co.uk/whats-on/food-d...</td>\n",
              "      <td>E</td>\n",
              "    </tr>\n",
              "    <tr>\n",
              "      <th>...</th>\n",
              "      <td>...</td>\n",
              "      <td>...</td>\n",
              "      <td>...</td>\n",
              "      <td>...</td>\n",
              "      <td>...</td>\n",
              "      <td>...</td>\n",
              "      <td>...</td>\n",
              "      <td>...</td>\n",
              "      <td>...</td>\n",
              "    </tr>\n",
              "    <tr>\n",
              "      <th>46775</th>\n",
              "      <td>2020-02-07-038035</td>\n",
              "      <td>I think you can still go out and get groceries...</td>\n",
              "      <td>Cameron Walker</td>\n",
              "      <td>[Q25189341, Q30122762]</td>\n",
              "      <td>2020-02-07 23:01:02</td>\n",
              "      <td>1</td>\n",
              "      <td>[[Cameron Walker, 0.9119], [None, 0.0881]]</td>\n",
              "      <td>[http://www.theglobeandmail.com/world/article-...</td>\n",
              "      <td>E</td>\n",
              "    </tr>\n",
              "    <tr>\n",
              "      <th>46886</th>\n",
              "      <td>2020-02-11-041875</td>\n",
              "      <td>If you look at meat processing, if you look at...</td>\n",
              "      <td>Sarah Miller</td>\n",
              "      <td>[Q23881549, Q57435876]</td>\n",
              "      <td>2020-02-11 10:00:19</td>\n",
              "      <td>1</td>\n",
              "      <td>[[Sarah Miller, 0.9027], [None, 0.0973]]</td>\n",
              "      <td>[http://mobile.nytimes.com/2020/02/11/technolo...</td>\n",
              "      <td>E</td>\n",
              "    </tr>\n",
              "    <tr>\n",
              "      <th>48087</th>\n",
              "      <td>2020-01-18-047886</td>\n",
              "      <td>Veganuary exists to help people discover delic...</td>\n",
              "      <td>Wendy Matthews</td>\n",
              "      <td>[Q15524937]</td>\n",
              "      <td>2020-01-18 10:00:09</td>\n",
              "      <td>3</td>\n",
              "      <td>[[Wendy Matthews, 0.7805], [None, 0.195], [Jos...</td>\n",
              "      <td>[http://www.nytimes.com/2020/01/18/style/self-...</td>\n",
              "      <td>E</td>\n",
              "    </tr>\n",
              "    <tr>\n",
              "      <th>48538</th>\n",
              "      <td>2020-01-24-001965</td>\n",
              "      <td>A phrase that Ash says the whole time after cr...</td>\n",
              "      <td>Jonny Allan</td>\n",
              "      <td>[Q6275710]</td>\n",
              "      <td>2020-01-24 16:06:00</td>\n",
              "      <td>1</td>\n",
              "      <td>[[Jonny Allan, 0.806], [None, 0.194]]</td>\n",
              "      <td>[http://www.independent.co.uk/arts-entertainme...</td>\n",
              "      <td>E</td>\n",
              "    </tr>\n",
              "    <tr>\n",
              "      <th>48571</th>\n",
              "      <td>2020-03-06-002541</td>\n",
              "      <td>All in the knowledge that at Subway, they now ...</td>\n",
              "      <td>Colin Hughes</td>\n",
              "      <td>[Q5145215]</td>\n",
              "      <td>2020-03-06 09:50:59</td>\n",
              "      <td>2</td>\n",
              "      <td>[[Colin Hughes, 0.7819], [None, 0.2181]]</td>\n",
              "      <td>[https://www.birminghammail.co.uk/whats-on/foo...</td>\n",
              "      <td>E</td>\n",
              "    </tr>\n",
              "  </tbody>\n",
              "</table>\n",
              "<p>67 rows × 9 columns</p>\n",
              "</div>"
            ],
            "text/plain": [
              "                 quoteID  ... phase\n",
              "1967   2020-02-13-100687  ...     E\n",
              "2692   2020-02-07-007719  ...     E\n",
              "4263   2020-02-13-087416  ...     E\n",
              "4813   2020-01-21-098307  ...     E\n",
              "5263   2020-02-12-011869  ...     E\n",
              "...                  ...  ...   ...\n",
              "46775  2020-02-07-038035  ...     E\n",
              "46886  2020-02-11-041875  ...     E\n",
              "48087  2020-01-18-047886  ...     E\n",
              "48538  2020-01-24-001965  ...     E\n",
              "48571  2020-03-06-002541  ...     E\n",
              "\n",
              "[67 rows x 9 columns]"
            ]
          },
          "metadata": {},
          "execution_count": 17
        }
      ]
    },
    {
      "cell_type": "code",
      "metadata": {
        "id": "O06SGYDh65Ln"
      },
      "source": [
        "filtered_entries.to_json('data/filtered2020.json.bz2', compression='bz2', orient='records', lines=True)"
      ],
      "execution_count": 32,
      "outputs": []
    }
  ]
}