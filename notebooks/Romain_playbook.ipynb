{
 "cells": [
  {
   "cell_type": "markdown",
   "metadata": {},
   "source": [
    "# Preparing the environment"
   ]
  },
  {
   "cell_type": "code",
   "execution_count": 1,
   "metadata": {},
   "outputs": [],
   "source": [
    "import bz2\n",
    "import json\n",
    "\n",
    "import pandas as pd\n",
    "import matplotlib.pyplot as plt\n",
    "import numpy as np\n",
    "import pyarrow.parquet as pq\n",
    "import tldextract\n",
    "\n",
    "data_dir = \"../data/\"\n",
    "raw_data_dir = \"../raw_data/\""
   ]
  },
  {
   "cell_type": "markdown",
   "metadata": {},
   "source": [
    "# Additional datasets"
   ]
  },
  {
   "cell_type": "markdown",
   "metadata": {},
   "source": [
    "## Speaker attributes\n",
    "\n",
    "Let's first take a look at how the speaker_attributes dataset, as given for this project, looks like. The file `schema_speaker_attributes.txt` lists the provided columns."
   ]
  },
  {
   "cell_type": "markdown",
   "metadata": {},
   "source": [
    "For example, if we want to see the names, aliases and genders of the speakers, we can do the following:"
   ]
  },
  {
   "cell_type": "code",
   "execution_count": 2,
   "metadata": {},
   "outputs": [
    {
     "data": {
      "text/html": [
       "<div>\n",
       "<style scoped>\n",
       "    .dataframe tbody tr th:only-of-type {\n",
       "        vertical-align: middle;\n",
       "    }\n",
       "\n",
       "    .dataframe tbody tr th {\n",
       "        vertical-align: top;\n",
       "    }\n",
       "\n",
       "    .dataframe thead th {\n",
       "        text-align: right;\n",
       "    }\n",
       "</style>\n",
       "<table border=\"1\" class=\"dataframe\">\n",
       "  <thead>\n",
       "    <tr style=\"text-align: right;\">\n",
       "      <th></th>\n",
       "      <th>id</th>\n",
       "      <th>gender</th>\n",
       "      <th>nationality</th>\n",
       "    </tr>\n",
       "  </thead>\n",
       "  <tbody>\n",
       "    <tr>\n",
       "      <th>0</th>\n",
       "      <td>Q23</td>\n",
       "      <td>[Q6581097]</td>\n",
       "      <td>[Q161885, Q30]</td>\n",
       "    </tr>\n",
       "    <tr>\n",
       "      <th>1</th>\n",
       "      <td>Q42</td>\n",
       "      <td>[Q6581097]</td>\n",
       "      <td>[Q145]</td>\n",
       "    </tr>\n",
       "    <tr>\n",
       "      <th>2</th>\n",
       "      <td>Q1868</td>\n",
       "      <td>[Q6581097]</td>\n",
       "      <td>[Q31]</td>\n",
       "    </tr>\n",
       "    <tr>\n",
       "      <th>3</th>\n",
       "      <td>Q207</td>\n",
       "      <td>[Q6581097]</td>\n",
       "      <td>[Q30]</td>\n",
       "    </tr>\n",
       "    <tr>\n",
       "      <th>4</th>\n",
       "      <td>Q297</td>\n",
       "      <td>[Q6581097]</td>\n",
       "      <td>[Q29]</td>\n",
       "    </tr>\n",
       "  </tbody>\n",
       "</table>\n",
       "</div>"
      ],
      "text/plain": [
       "      id      gender     nationality\n",
       "0    Q23  [Q6581097]  [Q161885, Q30]\n",
       "1    Q42  [Q6581097]          [Q145]\n",
       "2  Q1868  [Q6581097]           [Q31]\n",
       "3   Q207  [Q6581097]           [Q30]\n",
       "4   Q297  [Q6581097]           [Q29]"
      ]
     },
     "execution_count": 2,
     "metadata": {},
     "output_type": "execute_result"
    }
   ],
   "source": [
    "speaker_attributes = ['gender', 'nationality']\n",
    "speaker_attrs_df = pd.read_parquet(raw_data_dir+\"speaker_attributes.parquet\", columns=['id']+speaker_attributes)\n",
    "speaker_attrs_df.head()"
   ]
  },
  {
   "cell_type": "markdown",
   "metadata": {},
   "source": [
    "The wikidata labels descriptions allows us to convert the qids to a human readable format."
   ]
  },
  {
   "cell_type": "code",
   "execution_count": 3,
   "metadata": {},
   "outputs": [
    {
     "data": {
      "text/html": [
       "<div>\n",
       "<style scoped>\n",
       "    .dataframe tbody tr th:only-of-type {\n",
       "        vertical-align: middle;\n",
       "    }\n",
       "\n",
       "    .dataframe tbody tr th {\n",
       "        vertical-align: top;\n",
       "    }\n",
       "\n",
       "    .dataframe thead th {\n",
       "        text-align: right;\n",
       "    }\n",
       "</style>\n",
       "<table border=\"1\" class=\"dataframe\">\n",
       "  <thead>\n",
       "    <tr style=\"text-align: right;\">\n",
       "      <th></th>\n",
       "      <th>QID</th>\n",
       "      <th>Label</th>\n",
       "      <th>Description</th>\n",
       "    </tr>\n",
       "  </thead>\n",
       "  <tbody>\n",
       "    <tr>\n",
       "      <th>0</th>\n",
       "      <td>Q31</td>\n",
       "      <td>Belgium</td>\n",
       "      <td>country in western Europe</td>\n",
       "    </tr>\n",
       "    <tr>\n",
       "      <th>1</th>\n",
       "      <td>Q45</td>\n",
       "      <td>Portugal</td>\n",
       "      <td>country in southwestern Europe</td>\n",
       "    </tr>\n",
       "    <tr>\n",
       "      <th>2</th>\n",
       "      <td>Q75</td>\n",
       "      <td>Internet</td>\n",
       "      <td>global system of connected computer networks</td>\n",
       "    </tr>\n",
       "    <tr>\n",
       "      <th>3</th>\n",
       "      <td>Q148</td>\n",
       "      <td>People's Republic of China</td>\n",
       "      <td>sovereign state in East Asia</td>\n",
       "    </tr>\n",
       "    <tr>\n",
       "      <th>4</th>\n",
       "      <td>Q155</td>\n",
       "      <td>Brazil</td>\n",
       "      <td>country in South America</td>\n",
       "    </tr>\n",
       "  </tbody>\n",
       "</table>\n",
       "</div>"
      ],
      "text/plain": [
       "    QID                       Label  \\\n",
       "0   Q31                     Belgium   \n",
       "1   Q45                    Portugal   \n",
       "2   Q75                    Internet   \n",
       "3  Q148  People's Republic of China   \n",
       "4  Q155                      Brazil   \n",
       "\n",
       "                                    Description  \n",
       "0                     country in western Europe  \n",
       "1                country in southwestern Europe  \n",
       "2  global system of connected computer networks  \n",
       "3                  sovereign state in East Asia  \n",
       "4                      country in South America  "
      ]
     },
     "execution_count": 3,
     "metadata": {},
     "output_type": "execute_result"
    }
   ],
   "source": [
    "pd.read_csv(raw_data_dir+\"wikidata_labels_descriptions_quotebank.csv.bz2\", compression='bz2').head()"
   ]
  },
  {
   "cell_type": "markdown",
   "metadata": {},
   "source": [
    "## Speaker attributes filtering\n",
    "\n",
    "To manipulate more easily the speaker attributes dataset, we'll filter it with speaker qids we have in our filtered quotebank dataset."
   ]
  },
  {
   "cell_type": "code",
   "execution_count": 4,
   "metadata": {},
   "outputs": [
    {
     "data": {
      "text/html": [
       "<div>\n",
       "<style scoped>\n",
       "    .dataframe tbody tr th:only-of-type {\n",
       "        vertical-align: middle;\n",
       "    }\n",
       "\n",
       "    .dataframe tbody tr th {\n",
       "        vertical-align: top;\n",
       "    }\n",
       "\n",
       "    .dataframe thead th {\n",
       "        text-align: right;\n",
       "    }\n",
       "</style>\n",
       "<table border=\"1\" class=\"dataframe\">\n",
       "  <thead>\n",
       "    <tr style=\"text-align: right;\">\n",
       "      <th></th>\n",
       "      <th>quoteID</th>\n",
       "      <th>quotation</th>\n",
       "      <th>speaker</th>\n",
       "      <th>qids</th>\n",
       "      <th>date</th>\n",
       "      <th>numOccurrences</th>\n",
       "      <th>probas</th>\n",
       "      <th>urls</th>\n",
       "      <th>phase</th>\n",
       "    </tr>\n",
       "  </thead>\n",
       "  <tbody>\n",
       "    <tr>\n",
       "      <th>0</th>\n",
       "      <td>2020-03-18-001607</td>\n",
       "      <td>a special lifelong animal advocate.</td>\n",
       "      <td>None</td>\n",
       "      <td>[]</td>\n",
       "      <td>2020-03-18 19:42:36</td>\n",
       "      <td>1</td>\n",
       "      <td>[[None, 0.8046], [Betty White, 0.085], [Winona...</td>\n",
       "      <td>[https://www.nbc15.com/content/news/Henry-Vila...</td>\n",
       "      <td>E</td>\n",
       "    </tr>\n",
       "    <tr>\n",
       "      <th>1</th>\n",
       "      <td>2020-02-19-002557</td>\n",
       "      <td>Academic environments are not the best places ...</td>\n",
       "      <td>Lewis Von Thaer</td>\n",
       "      <td>[Q22096796]</td>\n",
       "      <td>2020-02-19 23:42:44</td>\n",
       "      <td>2</td>\n",
       "      <td>[[Lewis Von Thaer, 0.5349], [None, 0.2953], [C...</td>\n",
       "      <td>[https://www.thelantern.com/2020/02/student-co...</td>\n",
       "      <td>E</td>\n",
       "    </tr>\n",
       "    <tr>\n",
       "      <th>2</th>\n",
       "      <td>2020-04-03-002052</td>\n",
       "      <td>After talking with Chris about his background ...</td>\n",
       "      <td>Brad Smith</td>\n",
       "      <td>[Q15477554, Q16218831, Q23664265, Q24084114, Q...</td>\n",
       "      <td>2020-04-03 15:16:31</td>\n",
       "      <td>1</td>\n",
       "      <td>[[Brad Smith, 0.7482], [None, 0.2469], [Chris ...</td>\n",
       "      <td>[http://www.hmenews.com/article/brief-package-...</td>\n",
       "      <td>E</td>\n",
       "    </tr>\n",
       "    <tr>\n",
       "      <th>3</th>\n",
       "      <td>2020-03-29-001856</td>\n",
       "      <td>Animal caretaker Ambre Cook talks about the re...</td>\n",
       "      <td>None</td>\n",
       "      <td>[]</td>\n",
       "      <td>2020-03-29 14:05:00</td>\n",
       "      <td>2</td>\n",
       "      <td>[[None, 0.6996], [Sarah Silverman, 0.3004]]</td>\n",
       "      <td>[http://newsok.com/article/5658897/interviews-...</td>\n",
       "      <td>E</td>\n",
       "    </tr>\n",
       "    <tr>\n",
       "      <th>4</th>\n",
       "      <td>2020-02-02-004706</td>\n",
       "      <td>Because this hardworking talented human of min...</td>\n",
       "      <td>Ashwiny Iyer Tiwari</td>\n",
       "      <td>[Q28012317]</td>\n",
       "      <td>2020-02-02 05:14:15</td>\n",
       "      <td>2</td>\n",
       "      <td>[[Ashwiny Iyer Tiwari, 0.4128], [None, 0.3853]...</td>\n",
       "      <td>[https://www.hindustantimes.com/bollywood/kang...</td>\n",
       "      <td>E</td>\n",
       "    </tr>\n",
       "  </tbody>\n",
       "</table>\n",
       "</div>"
      ],
      "text/plain": [
       "             quoteID                                          quotation  \\\n",
       "0  2020-03-18-001607                a special lifelong animal advocate.   \n",
       "1  2020-02-19-002557  Academic environments are not the best places ...   \n",
       "2  2020-04-03-002052  After talking with Chris about his background ...   \n",
       "3  2020-03-29-001856  Animal caretaker Ambre Cook talks about the re...   \n",
       "4  2020-02-02-004706  Because this hardworking talented human of min...   \n",
       "\n",
       "               speaker                                               qids  \\\n",
       "0                 None                                                 []   \n",
       "1      Lewis Von Thaer                                        [Q22096796]   \n",
       "2           Brad Smith  [Q15477554, Q16218831, Q23664265, Q24084114, Q...   \n",
       "3                 None                                                 []   \n",
       "4  Ashwiny Iyer Tiwari                                        [Q28012317]   \n",
       "\n",
       "                 date  numOccurrences  \\\n",
       "0 2020-03-18 19:42:36               1   \n",
       "1 2020-02-19 23:42:44               2   \n",
       "2 2020-04-03 15:16:31               1   \n",
       "3 2020-03-29 14:05:00               2   \n",
       "4 2020-02-02 05:14:15               2   \n",
       "\n",
       "                                              probas  \\\n",
       "0  [[None, 0.8046], [Betty White, 0.085], [Winona...   \n",
       "1  [[Lewis Von Thaer, 0.5349], [None, 0.2953], [C...   \n",
       "2  [[Brad Smith, 0.7482], [None, 0.2469], [Chris ...   \n",
       "3        [[None, 0.6996], [Sarah Silverman, 0.3004]]   \n",
       "4  [[Ashwiny Iyer Tiwari, 0.4128], [None, 0.3853]...   \n",
       "\n",
       "                                                urls phase  \n",
       "0  [https://www.nbc15.com/content/news/Henry-Vila...     E  \n",
       "1  [https://www.thelantern.com/2020/02/student-co...     E  \n",
       "2  [http://www.hmenews.com/article/brief-package-...     E  \n",
       "3  [http://newsok.com/article/5658897/interviews-...     E  \n",
       "4  [https://www.hindustantimes.com/bollywood/kang...     E  "
      ]
     },
     "execution_count": 4,
     "metadata": {},
     "output_type": "execute_result"
    }
   ],
   "source": [
    "df = pd.read_json(data_dir+\"filtered2020.json.bz2\", lines=True, compression='bz2')\n",
    "df.head()"
   ]
  },
  {
   "cell_type": "markdown",
   "metadata": {},
   "source": [
    "The following cells retrieve the attributes of the qids present in our filtered dataset."
   ]
  },
  {
   "cell_type": "code",
   "execution_count": 5,
   "metadata": {},
   "outputs": [
    {
     "name": "stdout",
     "output_type": "stream",
     "text": [
      "52583 speaker qids found.\n"
     ]
    }
   ],
   "source": [
    "# Get the list of qids in our filtered quotebank dataset\n",
    "speaker_qids = df['qids'].explode().dropna().drop_duplicates()\n",
    "print(f\"{len(speaker_qids)} speaker qids found.\")"
   ]
  },
  {
   "cell_type": "code",
   "execution_count": 6,
   "metadata": {},
   "outputs": [
    {
     "name": "stdout",
     "output_type": "stream",
     "text": [
      "Retrieved attributes of 51951 speaker qids.\n"
     ]
    },
    {
     "data": {
      "text/html": [
       "<div>\n",
       "<style scoped>\n",
       "    .dataframe tbody tr th:only-of-type {\n",
       "        vertical-align: middle;\n",
       "    }\n",
       "\n",
       "    .dataframe tbody tr th {\n",
       "        vertical-align: top;\n",
       "    }\n",
       "\n",
       "    .dataframe thead th {\n",
       "        text-align: right;\n",
       "    }\n",
       "</style>\n",
       "<table border=\"1\" class=\"dataframe\">\n",
       "  <thead>\n",
       "    <tr style=\"text-align: right;\">\n",
       "      <th></th>\n",
       "      <th>aliases</th>\n",
       "      <th>date_of_birth</th>\n",
       "      <th>nationality</th>\n",
       "      <th>gender</th>\n",
       "      <th>lastrevid</th>\n",
       "      <th>ethnic_group</th>\n",
       "      <th>US_congress_bio_ID</th>\n",
       "      <th>occupation</th>\n",
       "      <th>party</th>\n",
       "      <th>academic_degree</th>\n",
       "      <th>id</th>\n",
       "      <th>label</th>\n",
       "      <th>candidacy</th>\n",
       "      <th>type</th>\n",
       "      <th>religion</th>\n",
       "    </tr>\n",
       "  </thead>\n",
       "  <tbody>\n",
       "    <tr>\n",
       "      <th>0</th>\n",
       "      <td>[George Walker Bush, Bush Jr., Dubya, GWB, Bus...</td>\n",
       "      <td>[+1946-07-06T00:00:00Z]</td>\n",
       "      <td>[Q30]</td>\n",
       "      <td>[Q6581097]</td>\n",
       "      <td>1395142029</td>\n",
       "      <td>None</td>\n",
       "      <td>None</td>\n",
       "      <td>[Q82955, Q15982858, Q18814623, Q1028181, Q1408...</td>\n",
       "      <td>[Q29468]</td>\n",
       "      <td>None</td>\n",
       "      <td>Q207</td>\n",
       "      <td>George W. Bush</td>\n",
       "      <td>[Q327959, Q464075, Q3586276, Q4450587]</td>\n",
       "      <td>item</td>\n",
       "      <td>[Q329646, Q682443, Q33203]</td>\n",
       "    </tr>\n",
       "    <tr>\n",
       "      <th>1</th>\n",
       "      <td>[Neil Percival Young, Shakey, Godfather of Gru...</td>\n",
       "      <td>[+1945-11-12T00:00:00Z]</td>\n",
       "      <td>[Q16, Q30]</td>\n",
       "      <td>[Q6581097]</td>\n",
       "      <td>1395459626</td>\n",
       "      <td>None</td>\n",
       "      <td>None</td>\n",
       "      <td>[Q177220, Q488205, Q2526255, Q639669, Q1881462...</td>\n",
       "      <td>None</td>\n",
       "      <td>None</td>\n",
       "      <td>Q633</td>\n",
       "      <td>Neil Young</td>\n",
       "      <td>None</td>\n",
       "      <td>item</td>\n",
       "      <td>None</td>\n",
       "    </tr>\n",
       "    <tr>\n",
       "      <th>2</th>\n",
       "      <td>[Mary Louise Streep, Meryl Louise Streep, Stre...</td>\n",
       "      <td>[+1949-06-22T00:00:00Z]</td>\n",
       "      <td>[Q30]</td>\n",
       "      <td>[Q6581072]</td>\n",
       "      <td>1388232380</td>\n",
       "      <td>None</td>\n",
       "      <td>None</td>\n",
       "      <td>[Q10800557, Q2259451, Q10798782, Q2405480, Q33...</td>\n",
       "      <td>[Q29552]</td>\n",
       "      <td>None</td>\n",
       "      <td>Q873</td>\n",
       "      <td>Meryl Streep</td>\n",
       "      <td>None</td>\n",
       "      <td>item</td>\n",
       "      <td>[Q7066]</td>\n",
       "    </tr>\n",
       "    <tr>\n",
       "      <th>3</th>\n",
       "      <td>[Namo, Modi, Narendra Bhai, Narendra Damodarda...</td>\n",
       "      <td>[+1950-09-17T00:00:00Z]</td>\n",
       "      <td>[Q668]</td>\n",
       "      <td>[Q6581097]</td>\n",
       "      <td>1395415052</td>\n",
       "      <td>[Q1282294, Q6889284]</td>\n",
       "      <td>None</td>\n",
       "      <td>[Q82955, Q36180, Q7019111, Q10429346]</td>\n",
       "      <td>[Q10230]</td>\n",
       "      <td>None</td>\n",
       "      <td>Q1058</td>\n",
       "      <td>Narendra Modi</td>\n",
       "      <td>[Q63988227, Q63988919, Q16841231, Q16251961, Q...</td>\n",
       "      <td>item</td>\n",
       "      <td>[Q9089]</td>\n",
       "    </tr>\n",
       "    <tr>\n",
       "      <th>4</th>\n",
       "      <td>[Ban Kimoon, Ban Ki Moon]</td>\n",
       "      <td>[+1944-06-13T00:00:00Z]</td>\n",
       "      <td>[Q884]</td>\n",
       "      <td>[Q6581097]</td>\n",
       "      <td>1384825460</td>\n",
       "      <td>[Q484464]</td>\n",
       "      <td>None</td>\n",
       "      <td>[Q82955, Q193391]</td>\n",
       "      <td>[Q327591]</td>\n",
       "      <td>None</td>\n",
       "      <td>Q1253</td>\n",
       "      <td>Ban Ki-moon</td>\n",
       "      <td>None</td>\n",
       "      <td>item</td>\n",
       "      <td>[Q9581, Q748]</td>\n",
       "    </tr>\n",
       "  </tbody>\n",
       "</table>\n",
       "</div>"
      ],
      "text/plain": [
       "                                             aliases            date_of_birth  \\\n",
       "0  [George Walker Bush, Bush Jr., Dubya, GWB, Bus...  [+1946-07-06T00:00:00Z]   \n",
       "1  [Neil Percival Young, Shakey, Godfather of Gru...  [+1945-11-12T00:00:00Z]   \n",
       "2  [Mary Louise Streep, Meryl Louise Streep, Stre...  [+1949-06-22T00:00:00Z]   \n",
       "3  [Namo, Modi, Narendra Bhai, Narendra Damodarda...  [+1950-09-17T00:00:00Z]   \n",
       "4                          [Ban Kimoon, Ban Ki Moon]  [+1944-06-13T00:00:00Z]   \n",
       "\n",
       "  nationality      gender   lastrevid          ethnic_group  \\\n",
       "0       [Q30]  [Q6581097]  1395142029                  None   \n",
       "1  [Q16, Q30]  [Q6581097]  1395459626                  None   \n",
       "2       [Q30]  [Q6581072]  1388232380                  None   \n",
       "3      [Q668]  [Q6581097]  1395415052  [Q1282294, Q6889284]   \n",
       "4      [Q884]  [Q6581097]  1384825460             [Q484464]   \n",
       "\n",
       "  US_congress_bio_ID                                         occupation  \\\n",
       "0               None  [Q82955, Q15982858, Q18814623, Q1028181, Q1408...   \n",
       "1               None  [Q177220, Q488205, Q2526255, Q639669, Q1881462...   \n",
       "2               None  [Q10800557, Q2259451, Q10798782, Q2405480, Q33...   \n",
       "3               None              [Q82955, Q36180, Q7019111, Q10429346]   \n",
       "4               None                                  [Q82955, Q193391]   \n",
       "\n",
       "       party academic_degree     id           label  \\\n",
       "0   [Q29468]            None   Q207  George W. Bush   \n",
       "1       None            None   Q633      Neil Young   \n",
       "2   [Q29552]            None   Q873    Meryl Streep   \n",
       "3   [Q10230]            None  Q1058   Narendra Modi   \n",
       "4  [Q327591]            None  Q1253     Ban Ki-moon   \n",
       "\n",
       "                                           candidacy  type  \\\n",
       "0             [Q327959, Q464075, Q3586276, Q4450587]  item   \n",
       "1                                               None  item   \n",
       "2                                               None  item   \n",
       "3  [Q63988227, Q63988919, Q16841231, Q16251961, Q...  item   \n",
       "4                                               None  item   \n",
       "\n",
       "                     religion  \n",
       "0  [Q329646, Q682443, Q33203]  \n",
       "1                        None  \n",
       "2                     [Q7066]  \n",
       "3                     [Q9089]  \n",
       "4               [Q9581, Q748]  "
      ]
     },
     "execution_count": 6,
     "metadata": {},
     "output_type": "execute_result"
    }
   ],
   "source": [
    "attrs_pq = pq.read_table(\n",
    "    raw_data_dir+\"speaker_attributes.parquet\",\n",
    "    filters=[\n",
    "        ('id', 'in', speaker_qids)\n",
    "    ]\n",
    ")\n",
    "attrs_df = attrs_pq.to_pandas()\n",
    "print(f\"Retrieved attributes of {len(attrs_df)} speaker qids.\")\n",
    "attrs_df.head()"
   ]
  },
  {
   "cell_type": "markdown",
   "metadata": {},
   "source": [
    "The next cell create the filtered_speaker_attributes dataset file, for latter usage."
   ]
  },
  {
   "cell_type": "code",
   "execution_count": 7,
   "metadata": {},
   "outputs": [],
   "source": [
    "attrs_df.to_json(data_dir+\"filtered_speaker_attributes.json.bz2\", compression=\"bz2\")"
   ]
  },
  {
   "cell_type": "markdown",
   "metadata": {},
   "source": [
    "# Building the extended filtered dataset\n",
    "\n",
    "We have already filtered the quotebank dataset, and we now want to extend it with our additional datasets. We'll also build the file for latter usage."
   ]
  },
  {
   "cell_type": "code",
   "execution_count": 8,
   "metadata": {},
   "outputs": [
    {
     "name": "stdout",
     "output_type": "stream",
     "text": [
      "Filtered quotebank dataset: 67587 lines\n",
      "Filtered speaker attributes dataset: 51951 lines\n"
     ]
    }
   ],
   "source": [
    "df = pd.read_json(data_dir+\"filtered2020.json.bz2\", lines=True, compression='bz2')\n",
    "attrs_df = pd.read_json(data_dir+\"filtered_speaker_attributes.json.bz2\", compression='bz2')\n",
    "\n",
    "print(f\"Filtered quotebank dataset: {len(df)} lines\")\n",
    "print(f\"Filtered speaker attributes dataset: {len(attrs_df)} lines\")"
   ]
  },
  {
   "cell_type": "markdown",
   "metadata": {},
   "source": [
    "We select the attributes we want for the speakers."
   ]
  },
  {
   "cell_type": "code",
   "execution_count": 9,
   "metadata": {},
   "outputs": [
    {
     "data": {
      "text/html": [
       "<div>\n",
       "<style scoped>\n",
       "    .dataframe tbody tr th:only-of-type {\n",
       "        vertical-align: middle;\n",
       "    }\n",
       "\n",
       "    .dataframe tbody tr th {\n",
       "        vertical-align: top;\n",
       "    }\n",
       "\n",
       "    .dataframe thead th {\n",
       "        text-align: right;\n",
       "    }\n",
       "</style>\n",
       "<table border=\"1\" class=\"dataframe\">\n",
       "  <thead>\n",
       "    <tr style=\"text-align: right;\">\n",
       "      <th></th>\n",
       "      <th>gender</th>\n",
       "      <th>nationality</th>\n",
       "      <th>date_of_birth</th>\n",
       "      <th>ethnic_group</th>\n",
       "      <th>occupation</th>\n",
       "      <th>party</th>\n",
       "      <th>academic_degree</th>\n",
       "      <th>id</th>\n",
       "    </tr>\n",
       "  </thead>\n",
       "  <tbody>\n",
       "    <tr>\n",
       "      <th>0</th>\n",
       "      <td>[Q6581097]</td>\n",
       "      <td>[Q30]</td>\n",
       "      <td>[+1946-07-06T00:00:00Z]</td>\n",
       "      <td>None</td>\n",
       "      <td>[Q82955, Q15982858, Q18814623, Q1028181, Q1408...</td>\n",
       "      <td>[Q29468]</td>\n",
       "      <td>None</td>\n",
       "      <td>Q207</td>\n",
       "    </tr>\n",
       "    <tr>\n",
       "      <th>1</th>\n",
       "      <td>[Q6581097]</td>\n",
       "      <td>[Q16, Q30]</td>\n",
       "      <td>[+1945-11-12T00:00:00Z]</td>\n",
       "      <td>None</td>\n",
       "      <td>[Q177220, Q488205, Q2526255, Q639669, Q1881462...</td>\n",
       "      <td>None</td>\n",
       "      <td>None</td>\n",
       "      <td>Q633</td>\n",
       "    </tr>\n",
       "    <tr>\n",
       "      <th>2</th>\n",
       "      <td>[Q6581072]</td>\n",
       "      <td>[Q30]</td>\n",
       "      <td>[+1949-06-22T00:00:00Z]</td>\n",
       "      <td>None</td>\n",
       "      <td>[Q10800557, Q2259451, Q10798782, Q2405480, Q33...</td>\n",
       "      <td>[Q29552]</td>\n",
       "      <td>None</td>\n",
       "      <td>Q873</td>\n",
       "    </tr>\n",
       "    <tr>\n",
       "      <th>3</th>\n",
       "      <td>[Q6581097]</td>\n",
       "      <td>[Q668]</td>\n",
       "      <td>[+1950-09-17T00:00:00Z]</td>\n",
       "      <td>[Q1282294, Q6889284]</td>\n",
       "      <td>[Q82955, Q36180, Q7019111, Q10429346]</td>\n",
       "      <td>[Q10230]</td>\n",
       "      <td>None</td>\n",
       "      <td>Q1058</td>\n",
       "    </tr>\n",
       "    <tr>\n",
       "      <th>4</th>\n",
       "      <td>[Q6581097]</td>\n",
       "      <td>[Q884]</td>\n",
       "      <td>[+1944-06-13T00:00:00Z]</td>\n",
       "      <td>[Q484464]</td>\n",
       "      <td>[Q82955, Q193391]</td>\n",
       "      <td>[Q327591]</td>\n",
       "      <td>None</td>\n",
       "      <td>Q1253</td>\n",
       "    </tr>\n",
       "  </tbody>\n",
       "</table>\n",
       "</div>"
      ],
      "text/plain": [
       "       gender nationality            date_of_birth          ethnic_group  \\\n",
       "0  [Q6581097]       [Q30]  [+1946-07-06T00:00:00Z]                  None   \n",
       "1  [Q6581097]  [Q16, Q30]  [+1945-11-12T00:00:00Z]                  None   \n",
       "2  [Q6581072]       [Q30]  [+1949-06-22T00:00:00Z]                  None   \n",
       "3  [Q6581097]      [Q668]  [+1950-09-17T00:00:00Z]  [Q1282294, Q6889284]   \n",
       "4  [Q6581097]      [Q884]  [+1944-06-13T00:00:00Z]             [Q484464]   \n",
       "\n",
       "                                          occupation      party  \\\n",
       "0  [Q82955, Q15982858, Q18814623, Q1028181, Q1408...   [Q29468]   \n",
       "1  [Q177220, Q488205, Q2526255, Q639669, Q1881462...       None   \n",
       "2  [Q10800557, Q2259451, Q10798782, Q2405480, Q33...   [Q29552]   \n",
       "3              [Q82955, Q36180, Q7019111, Q10429346]   [Q10230]   \n",
       "4                                  [Q82955, Q193391]  [Q327591]   \n",
       "\n",
       "  academic_degree     id  \n",
       "0            None   Q207  \n",
       "1            None   Q633  \n",
       "2            None   Q873  \n",
       "3            None  Q1058  \n",
       "4            None  Q1253  "
      ]
     },
     "execution_count": 9,
     "metadata": {},
     "output_type": "execute_result"
    }
   ],
   "source": [
    "attrs_columns = ['gender', 'nationality', 'date_of_birth', 'ethnic_group',\n",
    "    'occupation', 'party', 'academic_degree']\n",
    "attrs_df = attrs_df[attrs_columns + ['id']]\n",
    "attrs_df.head()"
   ]
  },
  {
   "cell_type": "markdown",
   "metadata": {},
   "source": [
    "Before merging, we want to make the qids human readable."
   ]
  },
  {
   "cell_type": "code",
   "execution_count": 10,
   "metadata": {},
   "outputs": [
    {
     "data": {
      "text/html": [
       "<div>\n",
       "<style scoped>\n",
       "    .dataframe tbody tr th:only-of-type {\n",
       "        vertical-align: middle;\n",
       "    }\n",
       "\n",
       "    .dataframe tbody tr th {\n",
       "        vertical-align: top;\n",
       "    }\n",
       "\n",
       "    .dataframe thead th {\n",
       "        text-align: right;\n",
       "    }\n",
       "</style>\n",
       "<table border=\"1\" class=\"dataframe\">\n",
       "  <thead>\n",
       "    <tr style=\"text-align: right;\">\n",
       "      <th></th>\n",
       "      <th>Label</th>\n",
       "      <th>Description</th>\n",
       "    </tr>\n",
       "    <tr>\n",
       "      <th>QID</th>\n",
       "      <th></th>\n",
       "      <th></th>\n",
       "    </tr>\n",
       "  </thead>\n",
       "  <tbody>\n",
       "    <tr>\n",
       "      <th>Q31</th>\n",
       "      <td>Belgium</td>\n",
       "      <td>country in western Europe</td>\n",
       "    </tr>\n",
       "    <tr>\n",
       "      <th>Q45</th>\n",
       "      <td>Portugal</td>\n",
       "      <td>country in southwestern Europe</td>\n",
       "    </tr>\n",
       "    <tr>\n",
       "      <th>Q75</th>\n",
       "      <td>Internet</td>\n",
       "      <td>global system of connected computer networks</td>\n",
       "    </tr>\n",
       "    <tr>\n",
       "      <th>Q148</th>\n",
       "      <td>People's Republic of China</td>\n",
       "      <td>sovereign state in East Asia</td>\n",
       "    </tr>\n",
       "    <tr>\n",
       "      <th>Q155</th>\n",
       "      <td>Brazil</td>\n",
       "      <td>country in South America</td>\n",
       "    </tr>\n",
       "  </tbody>\n",
       "</table>\n",
       "</div>"
      ],
      "text/plain": [
       "                           Label                                   Description\n",
       "QID                                                                           \n",
       "Q31                      Belgium                     country in western Europe\n",
       "Q45                     Portugal                country in southwestern Europe\n",
       "Q75                     Internet  global system of connected computer networks\n",
       "Q148  People's Republic of China                  sovereign state in East Asia\n",
       "Q155                      Brazil                      country in South America"
      ]
     },
     "execution_count": 10,
     "metadata": {},
     "output_type": "execute_result"
    }
   ],
   "source": [
    "labels_df = pd.read_csv(raw_data_dir+\"wikidata_labels_descriptions_quotebank.csv.bz2\", compression='bz2', index_col='QID')\n",
    "labels_df.head()"
   ]
  },
  {
   "cell_type": "code",
   "execution_count": 11,
   "metadata": {},
   "outputs": [],
   "source": [
    "cols = ['gender', 'nationality', 'ethnic_group', 'occupation', 'party', 'academic_degree']\n",
    "\n",
    "def compute_el(x):\n",
    "    if x == None:\n",
    "        return\n",
    "    return list(map(lambda el: labels_df.loc[el, 'Label'], x))\n",
    "\n",
    "for col in cols:\n",
    "    attrs_df[col] = attrs_df[col].apply(compute_el)"
   ]
  },
  {
   "cell_type": "markdown",
   "metadata": {},
   "source": [
    "And add it to our main dataframe. For now, we select a speaker qid only if there is exactly one match (i.e. `len(qids) == 1`)."
   ]
  },
  {
   "cell_type": "code",
   "execution_count": 12,
   "metadata": {},
   "outputs": [
    {
     "data": {
      "text/html": [
       "<div>\n",
       "<style scoped>\n",
       "    .dataframe tbody tr th:only-of-type {\n",
       "        vertical-align: middle;\n",
       "    }\n",
       "\n",
       "    .dataframe tbody tr th {\n",
       "        vertical-align: top;\n",
       "    }\n",
       "\n",
       "    .dataframe thead th {\n",
       "        text-align: right;\n",
       "    }\n",
       "</style>\n",
       "<table border=\"1\" class=\"dataframe\">\n",
       "  <thead>\n",
       "    <tr style=\"text-align: right;\">\n",
       "      <th></th>\n",
       "      <th>quoteID</th>\n",
       "      <th>quotation</th>\n",
       "      <th>speaker</th>\n",
       "      <th>qids</th>\n",
       "      <th>date</th>\n",
       "      <th>numOccurrences</th>\n",
       "      <th>probas</th>\n",
       "      <th>urls</th>\n",
       "      <th>phase</th>\n",
       "      <th>speaker_qid</th>\n",
       "      <th>gender</th>\n",
       "      <th>nationality</th>\n",
       "      <th>date_of_birth</th>\n",
       "      <th>ethnic_group</th>\n",
       "      <th>occupation</th>\n",
       "      <th>party</th>\n",
       "      <th>academic_degree</th>\n",
       "    </tr>\n",
       "  </thead>\n",
       "  <tbody>\n",
       "    <tr>\n",
       "      <th>0</th>\n",
       "      <td>2020-03-18-001607</td>\n",
       "      <td>a special lifelong animal advocate.</td>\n",
       "      <td>None</td>\n",
       "      <td>[]</td>\n",
       "      <td>2020-03-18 19:42:36</td>\n",
       "      <td>1</td>\n",
       "      <td>[[None, 0.8046], [Betty White, 0.085], [Winona...</td>\n",
       "      <td>[https://www.nbc15.com/content/news/Henry-Vila...</td>\n",
       "      <td>E</td>\n",
       "      <td>None</td>\n",
       "      <td>NaN</td>\n",
       "      <td>NaN</td>\n",
       "      <td>NaN</td>\n",
       "      <td>NaN</td>\n",
       "      <td>NaN</td>\n",
       "      <td>NaN</td>\n",
       "      <td>NaN</td>\n",
       "    </tr>\n",
       "    <tr>\n",
       "      <th>1</th>\n",
       "      <td>2020-02-19-002557</td>\n",
       "      <td>Academic environments are not the best places ...</td>\n",
       "      <td>Lewis Von Thaer</td>\n",
       "      <td>[Q22096796]</td>\n",
       "      <td>2020-02-19 23:42:44</td>\n",
       "      <td>2</td>\n",
       "      <td>[[Lewis Von Thaer, 0.5349], [None, 0.2953], [C...</td>\n",
       "      <td>[https://www.thelantern.com/2020/02/student-co...</td>\n",
       "      <td>E</td>\n",
       "      <td>Q22096796</td>\n",
       "      <td>[male]</td>\n",
       "      <td>None</td>\n",
       "      <td>[+1961-00-00T00:00:00Z]</td>\n",
       "      <td>None</td>\n",
       "      <td>[business executive]</td>\n",
       "      <td>None</td>\n",
       "      <td>None</td>\n",
       "    </tr>\n",
       "    <tr>\n",
       "      <th>2</th>\n",
       "      <td>2020-04-03-002052</td>\n",
       "      <td>After talking with Chris about his background ...</td>\n",
       "      <td>Brad Smith</td>\n",
       "      <td>[Q15477554, Q16218831, Q23664265, Q24084114, Q...</td>\n",
       "      <td>2020-04-03 15:16:31</td>\n",
       "      <td>1</td>\n",
       "      <td>[[Brad Smith, 0.7482], [None, 0.2469], [Chris ...</td>\n",
       "      <td>[http://www.hmenews.com/article/brief-package-...</td>\n",
       "      <td>E</td>\n",
       "      <td>None</td>\n",
       "      <td>NaN</td>\n",
       "      <td>NaN</td>\n",
       "      <td>NaN</td>\n",
       "      <td>NaN</td>\n",
       "      <td>NaN</td>\n",
       "      <td>NaN</td>\n",
       "      <td>NaN</td>\n",
       "    </tr>\n",
       "    <tr>\n",
       "      <th>3</th>\n",
       "      <td>2020-03-29-001856</td>\n",
       "      <td>Animal caretaker Ambre Cook talks about the re...</td>\n",
       "      <td>None</td>\n",
       "      <td>[]</td>\n",
       "      <td>2020-03-29 14:05:00</td>\n",
       "      <td>2</td>\n",
       "      <td>[[None, 0.6996], [Sarah Silverman, 0.3004]]</td>\n",
       "      <td>[http://newsok.com/article/5658897/interviews-...</td>\n",
       "      <td>E</td>\n",
       "      <td>None</td>\n",
       "      <td>NaN</td>\n",
       "      <td>NaN</td>\n",
       "      <td>NaN</td>\n",
       "      <td>NaN</td>\n",
       "      <td>NaN</td>\n",
       "      <td>NaN</td>\n",
       "      <td>NaN</td>\n",
       "    </tr>\n",
       "    <tr>\n",
       "      <th>4</th>\n",
       "      <td>2020-02-02-004706</td>\n",
       "      <td>Because this hardworking talented human of min...</td>\n",
       "      <td>Ashwiny Iyer Tiwari</td>\n",
       "      <td>[Q28012317]</td>\n",
       "      <td>2020-02-02 05:14:15</td>\n",
       "      <td>2</td>\n",
       "      <td>[[Ashwiny Iyer Tiwari, 0.4128], [None, 0.3853]...</td>\n",
       "      <td>[https://www.hindustantimes.com/bollywood/kang...</td>\n",
       "      <td>E</td>\n",
       "      <td>Q28012317</td>\n",
       "      <td>[female]</td>\n",
       "      <td>[India]</td>\n",
       "      <td>[+1979-10-15T00:00:00Z]</td>\n",
       "      <td>None</td>\n",
       "      <td>[filmmaker]</td>\n",
       "      <td>None</td>\n",
       "      <td>None</td>\n",
       "    </tr>\n",
       "  </tbody>\n",
       "</table>\n",
       "</div>"
      ],
      "text/plain": [
       "             quoteID                                          quotation  \\\n",
       "0  2020-03-18-001607                a special lifelong animal advocate.   \n",
       "1  2020-02-19-002557  Academic environments are not the best places ...   \n",
       "2  2020-04-03-002052  After talking with Chris about his background ...   \n",
       "3  2020-03-29-001856  Animal caretaker Ambre Cook talks about the re...   \n",
       "4  2020-02-02-004706  Because this hardworking talented human of min...   \n",
       "\n",
       "               speaker                                               qids  \\\n",
       "0                 None                                                 []   \n",
       "1      Lewis Von Thaer                                        [Q22096796]   \n",
       "2           Brad Smith  [Q15477554, Q16218831, Q23664265, Q24084114, Q...   \n",
       "3                 None                                                 []   \n",
       "4  Ashwiny Iyer Tiwari                                        [Q28012317]   \n",
       "\n",
       "                 date  numOccurrences  \\\n",
       "0 2020-03-18 19:42:36               1   \n",
       "1 2020-02-19 23:42:44               2   \n",
       "2 2020-04-03 15:16:31               1   \n",
       "3 2020-03-29 14:05:00               2   \n",
       "4 2020-02-02 05:14:15               2   \n",
       "\n",
       "                                              probas  \\\n",
       "0  [[None, 0.8046], [Betty White, 0.085], [Winona...   \n",
       "1  [[Lewis Von Thaer, 0.5349], [None, 0.2953], [C...   \n",
       "2  [[Brad Smith, 0.7482], [None, 0.2469], [Chris ...   \n",
       "3        [[None, 0.6996], [Sarah Silverman, 0.3004]]   \n",
       "4  [[Ashwiny Iyer Tiwari, 0.4128], [None, 0.3853]...   \n",
       "\n",
       "                                                urls phase speaker_qid  \\\n",
       "0  [https://www.nbc15.com/content/news/Henry-Vila...     E        None   \n",
       "1  [https://www.thelantern.com/2020/02/student-co...     E   Q22096796   \n",
       "2  [http://www.hmenews.com/article/brief-package-...     E        None   \n",
       "3  [http://newsok.com/article/5658897/interviews-...     E        None   \n",
       "4  [https://www.hindustantimes.com/bollywood/kang...     E   Q28012317   \n",
       "\n",
       "     gender nationality            date_of_birth ethnic_group  \\\n",
       "0       NaN         NaN                      NaN          NaN   \n",
       "1    [male]        None  [+1961-00-00T00:00:00Z]         None   \n",
       "2       NaN         NaN                      NaN          NaN   \n",
       "3       NaN         NaN                      NaN          NaN   \n",
       "4  [female]     [India]  [+1979-10-15T00:00:00Z]         None   \n",
       "\n",
       "             occupation party academic_degree  \n",
       "0                   NaN   NaN             NaN  \n",
       "1  [business executive]  None            None  \n",
       "2                   NaN   NaN             NaN  \n",
       "3                   NaN   NaN             NaN  \n",
       "4           [filmmaker]  None            None  "
      ]
     },
     "execution_count": 12,
     "metadata": {},
     "output_type": "execute_result"
    }
   ],
   "source": [
    "df['speaker_qid'] = df.qids.apply(lambda qids: qids[0] if len(qids) == 1 else None)\n",
    "df = df.merge(attrs_df, how=\"left\", left_on=\"speaker_qid\", right_on=\"id\").drop(\"id\", axis=1)\n",
    "df.head()"
   ]
  },
  {
   "cell_type": "code",
   "execution_count": 13,
   "metadata": {},
   "outputs": [],
   "source": [
    "# Other way\n",
    "\n",
    "# filename = \"quotes-2020.json.bz2\"\n",
    "# with bz2.open(data_dir+filename, 'rb') as s_file:\n",
    "#     with bz2.open(preprocessed_data_dir+filename, 'wb') as d_file:\n",
    "#         for instance in s_file:\n",
    "#             instance = json.loads(instance)\n",
    "#             qids = instance['qids']\n",
    "#             speaker_qid = qids[0] if len(qids) else None\n",
    "#             new_instance = dict(\n",
    "#                 quoteID=instance['quoteID'],\n",
    "#                 quotation=instance['quotation'],\n",
    "#                 speaker=instance['speaker'],\n",
    "#                 speaker_qid=speaker_qid,\n",
    "#             )\n",
    "#             d_file.write((json.dumps(new_instance)+\"\\n\").encode('utf-8'))"
   ]
  },
  {
   "cell_type": "markdown",
   "metadata": {},
   "source": [
    "## Domain"
   ]
  },
  {
   "cell_type": "code",
   "execution_count": 14,
   "metadata": {},
   "outputs": [],
   "source": [
    "def get_domain(url):\n",
    "    r = tldextract.extract(url)\n",
    "    return f\"{r.domain}.{r.suffix}\"\n",
    "\n",
    "df['domains'] = df['urls'].apply(lambda r: list(map(get_domain, r)))"
   ]
  },
  {
   "cell_type": "markdown",
   "metadata": {},
   "source": [
    "## Save the dataset\n",
    "\n",
    "The following cell save the dataset into a compressed json file for latter usage."
   ]
  },
  {
   "cell_type": "code",
   "execution_count": 15,
   "metadata": {},
   "outputs": [],
   "source": [
    "df.to_json(data_dir+\"filtered2020_attrs.json.bz2\", compression=\"bz2\")"
   ]
  },
  {
   "cell_type": "markdown",
   "metadata": {},
   "source": [
    "# Analyzing the quotebank raw dataset"
   ]
  },
  {
   "cell_type": "markdown",
   "metadata": {},
   "source": [
    "## Multiple speaker qids issue\n",
    "\n",
    "Quotebank provides a list of possible qids matching the speaker (it cannot guess which wikipedia page is actually the right one). Before taking a decision on how to solve the problem, let's take a look at the distribution."
   ]
  },
  {
   "cell_type": "code",
   "execution_count": 16,
   "metadata": {},
   "outputs": [],
   "source": [
    "qid_counts = pd.Series(dtype=int)\n",
    "with pd.read_json(raw_data_dir+\"quotes-2020.json.bz2\", lines=True, compression='bz2', chunksize=100000) as df_reader:\n",
    "    for chunk in df_reader:\n",
    "        qid_counts = qid_counts.add(chunk['qids'].str.len(), fill_value=0)"
   ]
  },
  {
   "cell_type": "code",
   "execution_count": 17,
   "metadata": {},
   "outputs": [
    {
     "name": "stdout",
     "output_type": "stream",
     "text": [
      "Number of rows: 5244449\n"
     ]
    },
    {
     "data": {
      "text/plain": [
       "count    5.244449e+06\n",
       "mean     1.443974e+00\n",
       "std      4.083868e+00\n",
       "min      0.000000e+00\n",
       "25%      0.000000e+00\n",
       "50%      1.000000e+00\n",
       "75%      1.000000e+00\n",
       "max      4.510000e+02\n",
       "dtype: float64"
      ]
     },
     "execution_count": 17,
     "metadata": {},
     "output_type": "execute_result"
    }
   ],
   "source": [
    "print(f\"Number of rows: {len(qid_counts)}\")\n",
    "qid_counts.describe()"
   ]
  },
  {
   "cell_type": "markdown",
   "metadata": {},
   "source": [
    "Before plotting the distribution, let's remove the outliers:"
   ]
  },
  {
   "cell_type": "code",
   "execution_count": 18,
   "metadata": {},
   "outputs": [
    {
     "name": "stdout",
     "output_type": "stream",
     "text": [
      "Removed 1.14% of rows.\n"
     ]
    }
   ],
   "source": [
    "thresh = 15\n",
    "qid_counts_clean = qid_counts[qid_counts < thresh] / len(qid_counts)\n",
    "p_removed = 1 - len(qid_counts_clean) / len(qid_counts)\n",
    "print(f\"Removed {p_removed*100:.2f}% of rows.\")"
   ]
  },
  {
   "cell_type": "code",
   "execution_count": 19,
   "metadata": {},
   "outputs": [
    {
     "data": {
      "text/plain": [
       "[]"
      ]
     },
     "execution_count": 19,
     "metadata": {},
     "output_type": "execute_result"
    },
    {
     "data": {
      "image/png": "[encoded data removed]",
      "text/plain": [
       "<Figure size 432x288 with 1 Axes>"
      ]
     },
     "metadata": {
      "needs_background": "light"
     },
     "output_type": "display_data"
    }
   ],
   "source": [
    "qid_counts_clean = qid_counts[qid_counts < thresh].astype(int)\n",
    "bins = np.arange(0, qid_counts_clean.max() + 1.5) - 0.5\n",
    "\n",
    "plt.hist(qid_counts_clean, bins, density=True, rwidth=0.7)\n",
    "plt.xticks(bins + 0.5)\n",
    "plt.title(\"Density of speaker qids length\")\n",
    "plt.xlabel(\"Number of speaker qids\")\n",
    "plt.plot()"
   ]
  },
  {
   "cell_type": "markdown",
   "metadata": {},
   "source": [
    "We can see that half of the quote will have a single speaker qid."
   ]
  },
  {
   "cell_type": "markdown",
   "metadata": {},
   "source": [
    "## Domain distribution\n",
    "\n",
    "We want to take a look at our filtered quotes and see from which domains they are from (maybe just a small part talk about our topic)."
   ]
  },
  {
   "cell_type": "code",
   "execution_count": 20,
   "metadata": {},
   "outputs": [
    {
     "data": {
      "text/plain": [
       "einnews.com             2752\n",
       "msn.com                 2194\n",
       "wokv.com                1532\n",
       "news965.com             1098\n",
       "indiatimes.com          1036\n",
       "stuff.co.nz              932\n",
       "eurekalert.org           898\n",
       "wsbradio.com             889\n",
       "breitbart.com            791\n",
       "krmg.com                 745\n",
       "miragenews.com           728\n",
       "nzherald.co.nz           699\n",
       "brisbanetimes.com.au     672\n",
       "washingtontimes.com      663\n",
       "express.co.uk            659\n",
       "nzcity.co.nz             644\n",
       "smh.com.au               643\n",
       "foxnews.com              611\n",
       "theage.com.au            610\n",
       "itbusinessnet.com        589\n",
       "Name: domains, dtype: int64"
      ]
     },
     "execution_count": 20,
     "metadata": {},
     "output_type": "execute_result"
    }
   ],
   "source": [
    "quotes_by_domain = df['domains'].explode().value_counts()\n",
    "quotes_by_domain.sort_values(ascending=False)[:20]"
   ]
  },
  {
   "cell_type": "markdown",
   "metadata": {},
   "source": [
    "It would also be interesting to compare it with the distribution from the unfiltered dataset."
   ]
  },
  {
   "cell_type": "code",
   "execution_count": 21,
   "metadata": {},
   "outputs": [],
   "source": [
    "domains_all_df = pd.Series(dtype=str)\n",
    "with pd.read_json(raw_data_dir+\"quotes-2020.json.bz2\", lines=True, compression='bz2', chunksize=50000) as df_reader:\n",
    "    for chunk in df_reader:\n",
    "        v = chunk['urls'].apply(lambda r: list(map(get_domain, r))).explode()\n",
    "        domains_all_df = domains_all_df.add(v, fill_value=\"\")"
   ]
  },
  {
   "cell_type": "code",
   "execution_count": 22,
   "metadata": {},
   "outputs": [
    {
     "data": {
      "text/plain": [
       "17057653"
      ]
     },
     "execution_count": 22,
     "metadata": {},
     "output_type": "execute_result"
    }
   ],
   "source": [
    "len(domains_all_df)"
   ]
  },
  {
   "cell_type": "code",
   "execution_count": 23,
   "metadata": {},
   "outputs": [
    {
     "data": {
      "text/plain": [
       "einnews.com            267567\n",
       "msn.com                241598\n",
       "news965.com            127998\n",
       "wokv.com               119616\n",
       "breitbart.com           98428\n",
       "washingtontimes.com     81833\n",
       "wsbradio.com            77257\n",
       "indiatimes.com          75690\n",
       "nbcsports.com           72913\n",
       "nytimes.com             70478\n",
       "foxnews.com             66660\n",
       "sfgate.com              64866\n",
       "gamereactor.eu          57670\n",
       "nbcnews.com             55788\n",
       "smh.com.au              54683\n",
       "newsok.com              54674\n",
       "krmg.com                54602\n",
       "stuff.co.nz             53072\n",
       "timesofisrael.com       52930\n",
       "news12.com              52282\n",
       "dtype: int64"
      ]
     },
     "execution_count": 23,
     "metadata": {},
     "output_type": "execute_result"
    }
   ],
   "source": [
    "quotes_by_domain_all = domains_all_df.value_counts()\n",
    "quotes_by_domain_all.sort_values(ascending=False)[:20]"
   ]
  },
  {
   "cell_type": "markdown",
   "metadata": {},
   "source": [
    "The next interesting analysis is looking at the percentage of quotes about our key words each domain has. "
   ]
  },
  {
   "cell_type": "code",
   "execution_count": 24,
   "metadata": {},
   "outputs": [
    {
     "data": {
      "text/html": [
       "<div>\n",
       "<style scoped>\n",
       "    .dataframe tbody tr th:only-of-type {\n",
       "        vertical-align: middle;\n",
       "    }\n",
       "\n",
       "    .dataframe tbody tr th {\n",
       "        vertical-align: top;\n",
       "    }\n",
       "\n",
       "    .dataframe thead th {\n",
       "        text-align: right;\n",
       "    }\n",
       "</style>\n",
       "<table border=\"1\" class=\"dataframe\">\n",
       "  <thead>\n",
       "    <tr style=\"text-align: right;\">\n",
       "      <th></th>\n",
       "      <th>filtered_quotes</th>\n",
       "      <th>total_quotes</th>\n",
       "      <th>ratio</th>\n",
       "    </tr>\n",
       "  </thead>\n",
       "  <tbody>\n",
       "    <tr>\n",
       "      <th>gwdtoday.com</th>\n",
       "      <td>2</td>\n",
       "      <td>2</td>\n",
       "      <td>1.0</td>\n",
       "    </tr>\n",
       "    <tr>\n",
       "      <th>interiordesign.net</th>\n",
       "      <td>1</td>\n",
       "      <td>1</td>\n",
       "      <td>1.0</td>\n",
       "    </tr>\n",
       "    <tr>\n",
       "      <th>greenhousecanada.com</th>\n",
       "      <td>2</td>\n",
       "      <td>2</td>\n",
       "      <td>1.0</td>\n",
       "    </tr>\n",
       "    <tr>\n",
       "      <th>tokyoartbeat.com</th>\n",
       "      <td>1</td>\n",
       "      <td>1</td>\n",
       "      <td>1.0</td>\n",
       "    </tr>\n",
       "    <tr>\n",
       "      <th>mydigitalfc.com</th>\n",
       "      <td>1</td>\n",
       "      <td>1</td>\n",
       "      <td>1.0</td>\n",
       "    </tr>\n",
       "  </tbody>\n",
       "</table>\n",
       "</div>"
      ],
      "text/plain": [
       "                      filtered_quotes  total_quotes  ratio\n",
       "gwdtoday.com                        2             2    1.0\n",
       "interiordesign.net                  1             1    1.0\n",
       "greenhousecanada.com                2             2    1.0\n",
       "tokyoartbeat.com                    1             1    1.0\n",
       "mydigitalfc.com                     1             1    1.0"
      ]
     },
     "execution_count": 24,
     "metadata": {},
     "output_type": "execute_result"
    }
   ],
   "source": [
    "quotes_by_domain_merged = pd.merge(\n",
    "    quotes_by_domain.rename('filtered_quotes'),\n",
    "    quotes_by_domain_all.rename('total_quotes'),\n",
    "    how='left',\n",
    "    left_index=True,\n",
    "    right_index=True\n",
    ")\n",
    "\n",
    "quotes_by_domain_merged['ratio'] = quotes_by_domain_merged['filtered_quotes'] / quotes_by_domain_merged['total_quotes']\n",
    "quotes_by_domain_merged.sort_values('ratio', ascending=False).head()"
   ]
  },
  {
   "cell_type": "markdown",
   "metadata": {},
   "source": [
    "Let's remove the domains with not a lot of total quotes (not really interesting)."
   ]
  },
  {
   "cell_type": "code",
   "execution_count": 25,
   "metadata": {},
   "outputs": [
    {
     "data": {
      "text/html": [
       "<div>\n",
       "<style scoped>\n",
       "    .dataframe tbody tr th:only-of-type {\n",
       "        vertical-align: middle;\n",
       "    }\n",
       "\n",
       "    .dataframe tbody tr th {\n",
       "        vertical-align: top;\n",
       "    }\n",
       "\n",
       "    .dataframe thead th {\n",
       "        text-align: right;\n",
       "    }\n",
       "</style>\n",
       "<table border=\"1\" class=\"dataframe\">\n",
       "  <thead>\n",
       "    <tr style=\"text-align: right;\">\n",
       "      <th></th>\n",
       "      <th>filtered_quotes</th>\n",
       "      <th>total_quotes</th>\n",
       "      <th>ratio</th>\n",
       "    </tr>\n",
       "  </thead>\n",
       "  <tbody>\n",
       "    <tr>\n",
       "      <th>vegnews.com</th>\n",
       "      <td>117</td>\n",
       "      <td>266</td>\n",
       "      <td>0.439850</td>\n",
       "    </tr>\n",
       "    <tr>\n",
       "      <th>onegreenplanet.org</th>\n",
       "      <td>89</td>\n",
       "      <td>247</td>\n",
       "      <td>0.360324</td>\n",
       "    </tr>\n",
       "    <tr>\n",
       "      <th>cartoonbrew.com</th>\n",
       "      <td>44</td>\n",
       "      <td>167</td>\n",
       "      <td>0.263473</td>\n",
       "    </tr>\n",
       "    <tr>\n",
       "      <th>foodingredientsfirst.com</th>\n",
       "      <td>58</td>\n",
       "      <td>223</td>\n",
       "      <td>0.260090</td>\n",
       "    </tr>\n",
       "    <tr>\n",
       "      <th>nationalhogfarmer.com</th>\n",
       "      <td>44</td>\n",
       "      <td>178</td>\n",
       "      <td>0.247191</td>\n",
       "    </tr>\n",
       "  </tbody>\n",
       "</table>\n",
       "</div>"
      ],
      "text/plain": [
       "                          filtered_quotes  total_quotes     ratio\n",
       "vegnews.com                           117           266  0.439850\n",
       "onegreenplanet.org                     89           247  0.360324\n",
       "cartoonbrew.com                        44           167  0.263473\n",
       "foodingredientsfirst.com               58           223  0.260090\n",
       "nationalhogfarmer.com                  44           178  0.247191"
      ]
     },
     "execution_count": 25,
     "metadata": {},
     "output_type": "execute_result"
    }
   ],
   "source": [
    "thresh = 100  # we keep domains with more than thresh total quotes\n",
    "quotes_by_domain_merged = quotes_by_domain_merged[quotes_by_domain_merged['total_quotes'] > thresh]\n",
    "quotes_by_domain_merged.sort_values('ratio', ascending=False).head()"
   ]
  },
  {
   "cell_type": "code",
   "execution_count": 26,
   "metadata": {},
   "outputs": [
    {
     "data": {
      "image/png": "[encoded data removed]",
      "text/plain": [
       "<Figure size 432x288 with 1 Axes>"
      ]
     },
     "metadata": {
      "needs_background": "light"
     },
     "output_type": "display_data"
    }
   ],
   "source": [
    "d = quotes_by_domain_merged['ratio'].sort_values(ascending=False)[:20].sort_values()\n",
    "\n",
    "plt.barh(d.index, d)\n",
    "plt.title(\"Ratio of filtered quotes over total quotes\")\n",
    "plt.xlabel(\"Ratio\")\n",
    "plt.show()"
   ]
  },
  {
   "cell_type": "markdown",
   "metadata": {},
   "source": [
    "# Adding context to quotes\n",
    "\n",
    "In this part, we create a dataset with quotation contexts. Even if now we're not sure we'll use it, a small check we can handle them brings us confidence.\n",
    "\n",
    "Since quotation selection based on topics has already be done via the quotation-centric dataset (anyway, it's more straightforward to filter on a smaller data file), we'll simply add the context to this dataframe."
   ]
  },
  {
   "cell_type": "code",
   "execution_count": null,
   "metadata": {},
   "outputs": [],
   "source": []
  },
  {
   "cell_type": "markdown",
   "metadata": {},
   "source": [
    "# Merging processed data from different years\n",
    "\n",
    "Our pipeline is (at this time) done for one year. It can be interesting to keep it this way so we can do year by year analysis, but we also need to build the complete dataset of all available filtered quotations.\n",
    "\n",
    "Applying our pipeline year by year also allows us to compute it quicker, in case we modify it and test it. One year analysis is also simpler when trying different analysis, simply because it computes faster, giving us a glimpse of the result while also improving our algorithms. Then, when we are confident about our code, we can take time to compute it to the whole dataset and enjoy the results."
   ]
  },
  {
   "cell_type": "code",
   "execution_count": 27,
   "metadata": {},
   "outputs": [
    {
     "ename": "KeyboardInterrupt",
     "evalue": "",
     "output_type": "error",
     "traceback": [
      "\u001b[0;31m---------------------------------------------------------------------------\u001b[0m",
      "\u001b[0;31mKeyboardInterrupt\u001b[0m                         Traceback (most recent call last)",
      "\u001b[0;32m/tmp/ipykernel_13671/1831568373.py\u001b[0m in \u001b[0;36m<module>\u001b[0;34m\u001b[0m\n\u001b[1;32m     10\u001b[0m             \u001b[0;32mfor\u001b[0m \u001b[0minstance\u001b[0m \u001b[0;32min\u001b[0m \u001b[0ms_file\u001b[0m\u001b[0;34m:\u001b[0m\u001b[0;34m\u001b[0m\u001b[0;34m\u001b[0m\u001b[0m\n\u001b[1;32m     11\u001b[0m                 \u001b[0minstance\u001b[0m \u001b[0;34m=\u001b[0m \u001b[0mjson\u001b[0m\u001b[0;34m.\u001b[0m\u001b[0mloads\u001b[0m\u001b[0;34m(\u001b[0m\u001b[0minstance\u001b[0m\u001b[0;34m)\u001b[0m\u001b[0;34m\u001b[0m\u001b[0;34m\u001b[0m\u001b[0m\n\u001b[0;32m---> 12\u001b[0;31m                 \u001b[0md_file\u001b[0m\u001b[0;34m.\u001b[0m\u001b[0mwrite\u001b[0m\u001b[0;34m(\u001b[0m\u001b[0;34m(\u001b[0m\u001b[0mjson\u001b[0m\u001b[0;34m.\u001b[0m\u001b[0mdumps\u001b[0m\u001b[0;34m(\u001b[0m\u001b[0minstance\u001b[0m\u001b[0;34m)\u001b[0m\u001b[0;34m+\u001b[0m\u001b[0;34m\"\\n\"\u001b[0m\u001b[0;34m)\u001b[0m\u001b[0;34m.\u001b[0m\u001b[0mencode\u001b[0m\u001b[0;34m(\u001b[0m\u001b[0;34m'utf-8'\u001b[0m\u001b[0;34m)\u001b[0m\u001b[0;34m)\u001b[0m\u001b[0;34m\u001b[0m\u001b[0;34m\u001b[0m\u001b[0m\n\u001b[0m",
      "\u001b[0;32m/usr/lib/python3.8/bz2.py\u001b[0m in \u001b[0;36mwrite\u001b[0;34m(self, data)\u001b[0m\n\u001b[1;32m    243\u001b[0m         \u001b[0;32mwith\u001b[0m \u001b[0mself\u001b[0m\u001b[0;34m.\u001b[0m\u001b[0m_lock\u001b[0m\u001b[0;34m:\u001b[0m\u001b[0;34m\u001b[0m\u001b[0;34m\u001b[0m\u001b[0m\n\u001b[1;32m    244\u001b[0m             \u001b[0mself\u001b[0m\u001b[0;34m.\u001b[0m\u001b[0m_check_can_write\u001b[0m\u001b[0;34m(\u001b[0m\u001b[0;34m)\u001b[0m\u001b[0;34m\u001b[0m\u001b[0;34m\u001b[0m\u001b[0m\n\u001b[0;32m--> 245\u001b[0;31m             \u001b[0mcompressed\u001b[0m \u001b[0;34m=\u001b[0m \u001b[0mself\u001b[0m\u001b[0;34m.\u001b[0m\u001b[0m_compressor\u001b[0m\u001b[0;34m.\u001b[0m\u001b[0mcompress\u001b[0m\u001b[0;34m(\u001b[0m\u001b[0mdata\u001b[0m\u001b[0;34m)\u001b[0m\u001b[0;34m\u001b[0m\u001b[0;34m\u001b[0m\u001b[0m\n\u001b[0m\u001b[1;32m    246\u001b[0m             \u001b[0mself\u001b[0m\u001b[0;34m.\u001b[0m\u001b[0m_fp\u001b[0m\u001b[0;34m.\u001b[0m\u001b[0mwrite\u001b[0m\u001b[0;34m(\u001b[0m\u001b[0mcompressed\u001b[0m\u001b[0;34m)\u001b[0m\u001b[0;34m\u001b[0m\u001b[0;34m\u001b[0m\u001b[0m\n\u001b[1;32m    247\u001b[0m             \u001b[0mself\u001b[0m\u001b[0;34m.\u001b[0m\u001b[0m_pos\u001b[0m \u001b[0;34m+=\u001b[0m \u001b[0mlen\u001b[0m\u001b[0;34m(\u001b[0m\u001b[0mdata\u001b[0m\u001b[0;34m)\u001b[0m\u001b[0;34m\u001b[0m\u001b[0;34m\u001b[0m\u001b[0m\n",
      "\u001b[0;31mKeyboardInterrupt\u001b[0m: "
     ]
    }
   ],
   "source": [
    "filename_base = \"filtered{}.json.bz2\"\n",
    "years = [2017, 2018]\n",
    "\n",
    "input_filenames = [filename_base.format(year) for year in years]\n",
    "output_filename = filename_base.format(f\"{min(years)}-{max(years)}\")\n",
    "\n",
    "with bz2.open(data_dir+output_filename, 'wb') as d_file:\n",
    "    for input_filename in input_filenames:\n",
    "        with bz2.open(data_dir+input_filename, 'rb') as s_file:\n",
    "            for instance in s_file:\n",
    "                instance = json.loads(instance)\n",
    "                d_file.write((json.dumps(instance)+\"\\n\").encode('utf-8'))"
   ]
  }
 ],
 "metadata": {
  "interpreter": {
   "hash": "5b3ded1ccb95c1d9bd405e7b823d9e85424cde40fbb5985eb47e999ef50e15b4"
  },
  "kernelspec": {
   "display_name": "Python 3.8.10 64-bit",
   "name": "python3"
  },
  "language_info": {
   "codemirror_mode": {
    "name": "ipython",
    "version": 3
   },
   "file_extension": ".py",
   "mimetype": "text/x-python",
   "name": "python",
   "nbconvert_exporter": "python",
   "pygments_lexer": "ipython3",
   "version": "3.8.10"
  },
  "orig_nbformat": 4
 },
 "nbformat": 4,
 "nbformat_minor": 2
}
